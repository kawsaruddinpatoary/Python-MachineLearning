{
 "cells": [
  {
   "cell_type": "code",
   "execution_count": 17,
   "id": "2f4a97ad-ffc6-4c3f-b18b-5a2dbcd66163",
   "metadata": {},
   "outputs": [
    {
     "data": {
      "text/plain": [
       "False"
      ]
     },
     "execution_count": 17,
     "metadata": {},
     "output_type": "execute_result"
    }
   ],
   "source": [
    "my_str=\"Kawsar\"\n",
    "my_str.isupper()"
   ]
  },
  {
   "cell_type": "code",
   "execution_count": 18,
   "id": "4b9fb65b-32d0-4f55-9f45-4de5653480fd",
   "metadata": {},
   "outputs": [
    {
     "name": "stdout",
     "output_type": "stream",
     "text": [
      "['kawsar', 22, 3.98]\n"
     ]
    }
   ],
   "source": [
    "mylist = [\"kawsar\", 22, 3.98]\n",
    "print(mylist)"
   ]
  },
  {
   "cell_type": "code",
   "execution_count": 19,
   "id": "16be3fab-5e72-4dde-b48a-37645c634263",
   "metadata": {},
   "outputs": [
    {
     "data": {
      "text/plain": [
       "'kawsar'"
      ]
     },
     "execution_count": 19,
     "metadata": {},
     "output_type": "execute_result"
    }
   ],
   "source": [
    "mylist[0]"
   ]
  },
  {
   "cell_type": "code",
   "execution_count": 20,
   "id": "49f0949c-9b36-4874-b8fd-ed3619ef1350",
   "metadata": {},
   "outputs": [
    {
     "data": {
      "text/plain": [
       "list"
      ]
     },
     "execution_count": 20,
     "metadata": {},
     "output_type": "execute_result"
    }
   ],
   "source": [
    "type(mylist)"
   ]
  },
  {
   "cell_type": "code",
   "execution_count": 21,
   "id": "396bd0ef-f986-4708-836d-b658944b1951",
   "metadata": {},
   "outputs": [
    {
     "data": {
      "text/plain": [
       "3"
      ]
     },
     "execution_count": 21,
     "metadata": {},
     "output_type": "execute_result"
    }
   ],
   "source": [
    "len(mylist)"
   ]
  },
  {
   "cell_type": "code",
   "execution_count": 22,
   "id": "c670b239-af52-4942-867b-e717d55f36bf",
   "metadata": {},
   "outputs": [],
   "source": [
    "mylist.append('CSE')\n"
   ]
  },
  {
   "cell_type": "code",
   "execution_count": 23,
   "id": "fbbffe8b-4820-4914-923b-67a264ddee60",
   "metadata": {},
   "outputs": [
    {
     "name": "stdout",
     "output_type": "stream",
     "text": [
      "['kawsar', 22, 3.98, 'CSE']\n"
     ]
    }
   ],
   "source": [
    "print(mylist)"
   ]
  },
  {
   "cell_type": "code",
   "execution_count": 24,
   "id": "bdbea30e-b6a9-4908-967b-d5c384bb9ea8",
   "metadata": {},
   "outputs": [
    {
     "data": {
      "text/plain": [
       "['kawsar', 22, 3.98, 'CSE']"
      ]
     },
     "execution_count": 24,
     "metadata": {},
     "output_type": "execute_result"
    }
   ],
   "source": [
    "mylist[:]"
   ]
  },
  {
   "cell_type": "code",
   "execution_count": 25,
   "id": "ee213e39-c1d1-4e92-9ce1-75971ed2b1f4",
   "metadata": {},
   "outputs": [
    {
     "data": {
      "text/plain": [
       "[3.98, 'CSE']"
      ]
     },
     "execution_count": 25,
     "metadata": {},
     "output_type": "execute_result"
    }
   ],
   "source": [
    "mylist[2:]"
   ]
  },
  {
   "cell_type": "code",
   "execution_count": 31,
   "id": "d139c509-b0dd-489f-a4fc-b4520c80313e",
   "metadata": {},
   "outputs": [],
   "source": [
    "mylist.extend([2, 3, 5, \"rafik\"])"
   ]
  },
  {
   "cell_type": "code",
   "execution_count": 35,
   "id": "ae7666da-a6b4-4901-9822-5eb42665aff1",
   "metadata": {},
   "outputs": [
    {
     "data": {
      "text/plain": [
       "[1, 2, 3, 4, 5]"
      ]
     },
     "execution_count": 35,
     "metadata": {},
     "output_type": "execute_result"
    }
   ],
   "source": [
    "mylist"
   ]
  },
  {
   "cell_type": "code",
   "execution_count": 36,
   "id": "bedc8919-53d8-411d-85d0-33ebc5e2d2ec",
   "metadata": {},
   "outputs": [
    {
     "data": {
      "text/plain": [
       "5"
      ]
     },
     "execution_count": 36,
     "metadata": {},
     "output_type": "execute_result"
    }
   ],
   "source": [
    "mylist.pop()"
   ]
  },
  {
   "cell_type": "code",
   "execution_count": 37,
   "id": "598caeb5-84d3-4fff-b248-66eaa7c9b24c",
   "metadata": {},
   "outputs": [
    {
     "data": {
      "text/plain": [
       "[1, 2, 3, 4]"
      ]
     },
     "execution_count": 37,
     "metadata": {},
     "output_type": "execute_result"
    }
   ],
   "source": [
    "mylist"
   ]
  },
  {
   "cell_type": "code",
   "execution_count": null,
   "id": "c92948f7-cf89-457f-aa55-d375adff78da",
   "metadata": {},
   "outputs": [],
   "source": []
  }
 ],
 "metadata": {
  "kernelspec": {
   "display_name": "Python 3 (ipykernel)",
   "language": "python",
   "name": "python3"
  },
  "language_info": {
   "codemirror_mode": {
    "name": "ipython",
    "version": 3
   },
   "file_extension": ".py",
   "mimetype": "text/x-python",
   "name": "python",
   "nbconvert_exporter": "python",
   "pygments_lexer": "ipython3",
   "version": "3.13.5"
  }
 },
 "nbformat": 4,
 "nbformat_minor": 5
}
