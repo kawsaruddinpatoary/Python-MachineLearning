{
 "cells": [
  {
   "cell_type": "code",
   "execution_count": 1,
   "id": "04e0a7d7-77a1-402d-b79d-a40c335d6256",
   "metadata": {},
   "outputs": [
    {
     "data": {
      "text/plain": [
       "{'car1': 'BMW',\n",
       " 'car2': 'Audi',\n",
       " 'car3': 'Rolles royace',\n",
       " 'car4': 'Toyota',\n",
       " 'car5': 'Nissan'}"
      ]
     },
     "execution_count": 1,
     "metadata": {},
     "output_type": "execute_result"
    }
   ],
   "source": [
    "mydic={\n",
    "    \"car1\":\"BMW\",\n",
    "    \"car2\":'Audi',\n",
    "    'car3':'Rolles royace',\n",
    "    'car4':'Toyota',\n",
    "    'car5':'Nissan',\n",
    "}\n",
    "mydic"
   ]
  },
  {
   "cell_type": "code",
   "execution_count": 2,
   "id": "e17d2557-dc7d-4327-825b-e8d7a1b509e7",
   "metadata": {},
   "outputs": [
    {
     "name": "stdout",
     "output_type": "stream",
     "text": [
      "car1\n",
      "car2\n",
      "car3\n",
      "car4\n",
      "car5\n"
     ]
    }
   ],
   "source": [
    "for x in mydic:\n",
    "    print(x)"
   ]
  },
  {
   "cell_type": "code",
   "execution_count": 3,
   "id": "9ea03fa9-65bc-4d40-a742-6b3845f91ae4",
   "metadata": {},
   "outputs": [
    {
     "name": "stdout",
     "output_type": "stream",
     "text": [
      "car1 car2 car3 car4 car5 "
     ]
    }
   ],
   "source": [
    "for x in mydic:\n",
    "    print(x, end=\" \")"
   ]
  },
  {
   "cell_type": "code",
   "execution_count": 5,
   "id": "b12c853f-2500-48b4-bfac-dc9e3a3895de",
   "metadata": {},
   "outputs": [
    {
     "name": "stdout",
     "output_type": "stream",
     "text": [
      "BMW\n",
      "Audi\n",
      "Rolles royace\n",
      "Toyota\n",
      "Nissan\n"
     ]
    }
   ],
   "source": [
    "for x in mydic.values():\n",
    "    print(x)"
   ]
  },
  {
   "cell_type": "code",
   "execution_count": 6,
   "id": "1199ef08-0e3c-4b09-81f0-d9c38d0cd4ca",
   "metadata": {},
   "outputs": [
    {
     "name": "stdout",
     "output_type": "stream",
     "text": [
      "('car1', 'BMW')\n",
      "('car2', 'Audi')\n",
      "('car3', 'Rolles royace')\n",
      "('car4', 'Toyota')\n",
      "('car5', 'Nissan')\n"
     ]
    }
   ],
   "source": [
    "for x in mydic.items():\n",
    "    print(x)"
   ]
  },
  {
   "cell_type": "code",
   "execution_count": null,
   "id": "01f645d0-5f2d-4c6e-89d2-6016f5cc6bfe",
   "metadata": {},
   "outputs": [],
   "source": []
  }
 ],
 "metadata": {
  "kernelspec": {
   "display_name": "Python 3 (ipykernel)",
   "language": "python",
   "name": "python3"
  },
  "language_info": {
   "codemirror_mode": {
    "name": "ipython",
    "version": 3
   },
   "file_extension": ".py",
   "mimetype": "text/x-python",
   "name": "python",
   "nbconvert_exporter": "python",
   "pygments_lexer": "ipython3",
   "version": "3.13.5"
  }
 },
 "nbformat": 4,
 "nbformat_minor": 5
}
