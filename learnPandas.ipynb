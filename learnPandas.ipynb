{
 "cells": [
  {
   "cell_type": "markdown",
   "id": "23b41c79-8453-48d9-955d-109f0383b28d",
   "metadata": {},
   "source": [
    "# Pandas"
   ]
  },
  {
   "cell_type": "code",
   "execution_count": 7,
   "id": "f9455764-2eea-451c-a3ac-276dd6a229dc",
   "metadata": {},
   "outputs": [],
   "source": [
    "import pandas as pd\n",
    "import numpy as np"
   ]
  },
  {
   "cell_type": "markdown",
   "id": "3b0fd705-c167-4975-91f3-fb515a2fa04d",
   "metadata": {},
   "source": [
    "## Data Frames"
   ]
  },
  {
   "cell_type": "code",
   "execution_count": 8,
   "id": "94ef61e4-52fe-4609-9074-40dc1caa7723",
   "metadata": {},
   "outputs": [
    {
     "name": "stdout",
     "output_type": "stream",
     "text": [
      "c    30\n",
      "d    40\n",
      "e    50\n",
      "dtype: int64\n"
     ]
    }
   ],
   "source": [
    "data =  [10, 20, 30, 40, 50]\n",
    "srs = pd.Series(data, index=['a','b', 'c','d','e'])\n",
    "print(srs[srs>20])"
   ]
  },
  {
   "cell_type": "code",
   "execution_count": 9,
   "id": "eb497512-7807-44c0-a486-ab70a8e80eeb",
   "metadata": {},
   "outputs": [
    {
     "name": "stdout",
     "output_type": "stream",
     "text": [
      "2200\n"
     ]
    }
   ],
   "source": [
    "calories = {'day 01':1750, 'day 02': 2100, 'day 03': 1700}\n",
    "series = pd.Series(calories)\n",
    "series.loc['day 03']+= 500\n",
    "print(series.loc['day 03'])"
   ]
  },
  {
   "cell_type": "code",
   "execution_count": 10,
   "id": "2afe050e-ebf6-4a93-8a5d-7bd89fca467e",
   "metadata": {},
   "outputs": [],
   "source": [
    "df =  pd.DataFrame(np.arange(1, 21).reshape(5,4), index=['row1','row2','row3','row4','row5'], columns=['col1','col2','col3','col4'])"
   ]
  },
  {
   "cell_type": "code",
   "execution_count": 11,
   "id": "a395be0d-35dc-4806-9c55-9269a43af998",
   "metadata": {},
   "outputs": [
    {
     "data": {
      "text/html": [
       "<div>\n",
       "<style scoped>\n",
       "    .dataframe tbody tr th:only-of-type {\n",
       "        vertical-align: middle;\n",
       "    }\n",
       "\n",
       "    .dataframe tbody tr th {\n",
       "        vertical-align: top;\n",
       "    }\n",
       "\n",
       "    .dataframe thead th {\n",
       "        text-align: right;\n",
       "    }\n",
       "</style>\n",
       "<table border=\"1\" class=\"dataframe\">\n",
       "  <thead>\n",
       "    <tr style=\"text-align: right;\">\n",
       "      <th></th>\n",
       "      <th>col1</th>\n",
       "      <th>col2</th>\n",
       "      <th>col3</th>\n",
       "      <th>col4</th>\n",
       "    </tr>\n",
       "  </thead>\n",
       "  <tbody>\n",
       "    <tr>\n",
       "      <th>row1</th>\n",
       "      <td>1</td>\n",
       "      <td>2</td>\n",
       "      <td>3</td>\n",
       "      <td>4</td>\n",
       "    </tr>\n",
       "    <tr>\n",
       "      <th>row2</th>\n",
       "      <td>5</td>\n",
       "      <td>6</td>\n",
       "      <td>7</td>\n",
       "      <td>8</td>\n",
       "    </tr>\n",
       "    <tr>\n",
       "      <th>row3</th>\n",
       "      <td>9</td>\n",
       "      <td>10</td>\n",
       "      <td>11</td>\n",
       "      <td>12</td>\n",
       "    </tr>\n",
       "    <tr>\n",
       "      <th>row4</th>\n",
       "      <td>13</td>\n",
       "      <td>14</td>\n",
       "      <td>15</td>\n",
       "      <td>16</td>\n",
       "    </tr>\n",
       "    <tr>\n",
       "      <th>row5</th>\n",
       "      <td>17</td>\n",
       "      <td>18</td>\n",
       "      <td>19</td>\n",
       "      <td>20</td>\n",
       "    </tr>\n",
       "  </tbody>\n",
       "</table>\n",
       "</div>"
      ],
      "text/plain": [
       "      col1  col2  col3  col4\n",
       "row1     1     2     3     4\n",
       "row2     5     6     7     8\n",
       "row3     9    10    11    12\n",
       "row4    13    14    15    16\n",
       "row5    17    18    19    20"
      ]
     },
     "execution_count": 11,
     "metadata": {},
     "output_type": "execute_result"
    }
   ],
   "source": [
    "df.head()"
   ]
  },
  {
   "cell_type": "code",
   "execution_count": 12,
   "id": "1556a4e0-cd46-4eb0-aeed-93f856495856",
   "metadata": {},
   "outputs": [
    {
     "data": {
      "text/plain": [
       "col1    5\n",
       "col2    6\n",
       "col3    7\n",
       "col4    8\n",
       "Name: row2, dtype: int64"
      ]
     },
     "execution_count": 12,
     "metadata": {},
     "output_type": "execute_result"
    }
   ],
   "source": [
    "df.loc['row2']"
   ]
  },
  {
   "cell_type": "code",
   "execution_count": 13,
   "id": "9e37ccab-d9cc-40f9-983f-332638c5acfb",
   "metadata": {},
   "outputs": [
    {
     "data": {
      "text/plain": [
       "col1    1\n",
       "col2    2\n",
       "Name: row1, dtype: int64"
      ]
     },
     "execution_count": 13,
     "metadata": {},
     "output_type": "execute_result"
    }
   ],
   "source": [
    "df.iloc[0,0:2]"
   ]
  },
  {
   "cell_type": "markdown",
   "id": "eb5b0eec-8662-4183-9533-be42c373fc71",
   "metadata": {},
   "source": [
    "## Read CSV"
   ]
  },
  {
   "cell_type": "code",
   "execution_count": 14,
   "id": "37817598-eba9-4b2f-94c9-e53a46bd7468",
   "metadata": {},
   "outputs": [],
   "source": [
    "df = pd.read_csv('pokemon.csv')"
   ]
  },
  {
   "cell_type": "code",
   "execution_count": 15,
   "id": "8449fd89-6db4-4492-9411-0f691634217c",
   "metadata": {},
   "outputs": [
    {
     "name": "stdout",
     "output_type": "stream",
     "text": [
      "      No        Name     Type1     Type2  Height  Weight  Legendary\n",
      "0      1   Bulbasaur     Grass    Poison     0.7     6.9          0\n",
      "1      2     Ivysaur     Grass    Poison     1.0    13.0          0\n",
      "2      3    Venusaur     Grass    Poison     2.0   100.0          0\n",
      "3      4  Charmander      Fire       NaN     0.6     8.5          0\n",
      "4      5  Charmeleon      Fire       NaN     1.1    19.0          0\n",
      "5      6   Charizard      Fire    Flying     1.7    90.5          0\n",
      "6      7    Squirtle     Water       NaN     0.5     9.0          0\n",
      "7      8   Wartortle     Water       NaN     1.0    22.5          0\n",
      "8      9   Blastoise     Water       NaN     1.6    85.5          0\n",
      "9     10    Caterpie       Bug       NaN     0.3     2.9          0\n",
      "10    11     Metapod       Bug       NaN     0.7     9.9          0\n",
      "11    12  Butterfree       Bug    Flying     1.1    32.0          0\n",
      "12    13      Weedle       Bug    Poison     0.3     3.2          0\n",
      "13    14      Kakuna       Bug    Poison     0.6    10.0          0\n",
      "14    15    Beedrill       Bug    Poison     1.0    29.5          0\n",
      "15    16      Pidgey    Normal    Flying     0.3     1.8          0\n",
      "16    17   Pidgeotto    Normal    Flying     1.1    30.0          0\n",
      "17    18     Pidgeot    Normal    Flying     1.5    39.5          0\n",
      "18    19     Rattata    Normal       NaN     0.3     3.5          0\n",
      "19    20    Raticate    Normal       NaN     0.7    18.5          0\n",
      "20    21     Spearow    Normal    Flying     0.3     2.0          0\n",
      "21    22      Fearow    Normal    Flying     1.2    38.0          0\n",
      "22    23       Ekans    Poison       NaN     2.0     6.9          0\n",
      "23    24       Arbok    Poison       NaN     3.5    65.0          0\n",
      "24    25     Pikachu  Electric       NaN     0.4     6.0          0\n",
      "25    26      Raichu  Electric       NaN     0.8    30.0          0\n",
      "26    27   Sandshrew    Ground       NaN     0.6    12.0          0\n",
      "27    28   Sandslash    Ground       NaN     1.0    29.5          0\n",
      "28    29    Nidoran♀    Poison       NaN     0.4     7.0          0\n",
      "29    30    Nidorina    Poison       NaN     0.8    20.0          0\n",
      "30    31   Nidoqueen    Poison    Ground     1.3    60.0          0\n",
      "31    32    Nidoran♂    Poison       NaN     0.5     9.0          0\n",
      "32    33    Nidorino    Poison       NaN     0.9    19.5          0\n",
      "33    34    Nidoking    Poison    Ground     1.4    62.0          0\n",
      "34    35    Clefairy     Fairy       NaN     0.6     7.5          0\n",
      "35    36    Clefable     Fairy       NaN     1.3    40.0          0\n",
      "36    37      Vulpix      Fire       NaN     0.6     9.9          0\n",
      "37    38   Ninetales      Fire       NaN     1.1    19.9          0\n",
      "38    39  Jigglypuff    Normal     Fairy     0.5     5.5          0\n",
      "39    40  Wigglytuff    Normal     Fairy     1.0    12.0          0\n",
      "40    41       Zubat    Poison    Flying     0.8     7.5          0\n",
      "41    42      Golbat    Poison    Flying     1.6    55.0          0\n",
      "42    43      Oddish     Grass    Poison     0.5     5.4          0\n",
      "43    44       Gloom     Grass    Poison     0.8     8.6          0\n",
      "44    45   Vileplume     Grass    Poison     1.2    18.6          0\n",
      "45    46       Paras       Bug     Grass     0.3     5.4          0\n",
      "46    47    Parasect       Bug     Grass     1.0    29.5          0\n",
      "47    48     Venonat       Bug    Poison     1.0    30.0          0\n",
      "48    49    Venomoth       Bug    Poison     1.5    12.5          0\n",
      "49    50     Diglett    Ground       NaN     0.2     0.8          0\n",
      "50    51     Dugtrio    Ground       NaN     0.7    33.3          0\n",
      "51    52      Meowth    Normal       NaN     0.4     4.2          0\n",
      "52    53     Persian    Normal       NaN     1.0    32.0          0\n",
      "53    54     Psyduck     Water       NaN     0.8    19.6          0\n",
      "54    55     Golduck     Water       NaN     1.7    76.6          0\n",
      "55    56      Mankey  Fighting       NaN     0.5    28.0          0\n",
      "56    57    Primeape  Fighting       NaN     1.0    32.0          0\n",
      "57    58   Growlithe      Fire       NaN     0.7    19.0          0\n",
      "58    59    Arcanine      Fire       NaN     1.9   155.0          0\n",
      "59    60     Poliwag     Water       NaN     0.6    12.4          0\n",
      "60    61   Poliwhirl     Water       NaN     1.0    20.0          0\n",
      "61    62   Poliwrath     Water  Fighting     1.3    54.0          0\n",
      "62    63        Abra   Psychic       NaN     0.9    19.5          0\n",
      "63    64     Kadabra   Psychic       NaN     1.3    56.5          0\n",
      "64    65    Alakazam   Psychic       NaN     1.5    48.0          0\n",
      "65    66      Machop  Fighting       NaN     0.8    19.5          0\n",
      "66    67     Machoke  Fighting       NaN     1.5    70.5          0\n",
      "67    68     Machamp  Fighting       NaN     1.6   130.0          0\n",
      "68    69  Bellsprout     Grass    Poison     0.7     4.0          0\n",
      "69    70  Weepinbell     Grass    Poison     1.0     6.4          0\n",
      "70    71  Victreebel     Grass    Poison     1.7    15.5          0\n",
      "71    72   Tentacool     Water    Poison     0.9    45.5          0\n",
      "72    73  Tentacruel     Water    Poison     1.6    55.0          0\n",
      "73    74     Geodude      Rock    Ground     0.4    20.0          0\n",
      "74    75    Graveler      Rock    Ground     1.0   105.0          0\n",
      "75    76       Golem      Rock    Ground     1.4   300.0          0\n",
      "76    77      Ponyta      Fire       NaN     1.0    30.0          0\n",
      "77    78    Rapidash      Fire       NaN     1.7    95.0          0\n",
      "78    79    Slowpoke     Water   Psychic     1.2    36.0          0\n",
      "79    80     Slowbro     Water   Psychic     1.6    78.5          0\n",
      "80    81   Magnemite  Electric     Steel     0.3     6.0          0\n",
      "81    82    Magneton  Electric     Steel     1.0    60.0          0\n",
      "82    83  Farfetch'd    Normal    Flying     0.8    15.0          0\n",
      "83    84       Doduo    Normal    Flying     1.4    39.2          0\n",
      "84    85      Dodrio    Normal    Flying     1.8    85.2          0\n",
      "85    86        Seel     Water       NaN     1.1    90.0          0\n",
      "86    87     Dewgong     Water       Ice     1.7   120.0          0\n",
      "87    88      Grimer    Poison       NaN     0.9    30.0          0\n",
      "88    89         Muk    Poison       NaN     1.2    30.0          0\n",
      "89    90    Shellder     Water       NaN     0.3     4.0          0\n",
      "90    91    Cloyster     Water       Ice     1.5   132.5          0\n",
      "91    92      Gastly     Ghost    Poison     1.3     0.1          0\n",
      "92    93     Haunter     Ghost    Poison     1.6     0.1          0\n",
      "93    94      Gengar     Ghost    Poison     1.5    40.5          0\n",
      "94    95        Onix      Rock    Ground     8.8   210.0          0\n",
      "95    96     Drowzee   Psychic       NaN     1.0    32.4          0\n",
      "96    97       Hypno   Psychic       NaN     1.6    75.6          0\n",
      "97    98      Krabby     Water       NaN     0.4     6.5          0\n",
      "98    99     Kingler     Water       NaN     1.3    60.0          0\n",
      "99   100     Voltorb  Electric       NaN     0.5    10.4          0\n",
      "100  101   Electrode  Electric       NaN     1.2    66.6          0\n",
      "101  102   Exeggcute     Grass   Psychic     0.4     2.5          0\n",
      "102  103   Exeggutor     Grass   Psychic     2.0   120.0          0\n",
      "103  104      Cubone    Ground       NaN     0.4     6.5          0\n",
      "104  105     Marowak    Ground       NaN     1.0    45.0          0\n",
      "105  106   Hitmonlee  Fighting       NaN     1.5    49.8          0\n",
      "106  107  Hitmonchan  Fighting       NaN     1.4    50.2          0\n",
      "107  108   Lickitung    Normal       NaN     1.2    65.5          0\n",
      "108  109     Koffing    Poison       NaN     0.6     1.0          0\n",
      "109  110     Weezing    Poison       NaN     1.2     9.5          0\n",
      "110  111     Rhyhorn    Ground      Rock     1.0   115.0          0\n",
      "111  112      Rhydon    Ground      Rock     1.9   120.0          0\n",
      "112  113     Chansey    Normal       NaN     1.1    34.6          0\n",
      "113  114     Tangela     Grass       NaN     1.0    35.0          0\n",
      "114  115  Kangaskhan    Normal       NaN     2.2    80.0          0\n",
      "115  116      Horsea     Water       NaN     0.4     8.0          0\n",
      "116  117      Seadra     Water       NaN     1.2    25.0          0\n",
      "117  118     Goldeen     Water       NaN     0.6    15.0          0\n",
      "118  119     Seaking     Water       NaN     1.3    39.0          0\n",
      "119  120      Staryu     Water       NaN     0.8    34.5          0\n",
      "120  121     Starmie     Water   Psychic     1.1    80.0          0\n",
      "121  122    Mr. Mime   Psychic     Fairy     1.3    54.5          0\n",
      "122  123     Scyther       Bug    Flying     1.5    56.0          0\n",
      "123  124        Jynx       Ice   Psychic     1.4    40.6          0\n",
      "124  125  Electabuzz  Electric       NaN     1.1    30.0          0\n",
      "125  126      Magmar      Fire       NaN     1.3    44.5          0\n",
      "126  127      Pinsir       Bug       NaN     1.5    55.0          0\n",
      "127  128      Tauros    Normal       NaN     1.4    88.4          0\n",
      "128  129    Magikarp     Water       NaN     0.9    10.0          0\n",
      "129  130    Gyarados     Water    Flying     6.5   235.0          0\n",
      "130  131      Lapras     Water       Ice     2.5   220.0          0\n",
      "131  132       Ditto    Normal       NaN     0.3     4.0          0\n",
      "132  133       Eevee    Normal       NaN     0.3     6.5          0\n",
      "133  134    Vaporeon     Water       NaN     1.0    29.0          0\n",
      "134  135     Jolteon  Electric       NaN     0.8    24.5          0\n",
      "135  136     Flareon      Fire       NaN     0.9    25.0          0\n",
      "136  137     Porygon    Normal       NaN     0.8    36.5          0\n",
      "137  138     Omanyte      Rock     Water     0.4     7.5          0\n",
      "138  139     Omastar      Rock     Water     1.0    35.0          0\n",
      "139  140      Kabuto      Rock     Water     0.5    11.5          0\n",
      "140  141    Kabutops      Rock     Water     1.3    40.5          0\n",
      "141  142  Aerodactyl      Rock    Flying     1.8    59.0          0\n",
      "142  143     Snorlax    Normal       NaN     2.1   460.0          0\n",
      "143  144    Articuno       Ice    Flying     1.7    55.4          1\n",
      "144  145      Zapdos  Electric    Flying     1.6    52.6          1\n",
      "145  146     Moltres      Fire    Flying     2.0    60.0          1\n",
      "146  147     Dratini    Dragon       NaN     1.8     3.3          0\n",
      "147  148   Dragonair    Dragon       NaN     4.0    16.5          0\n",
      "148  149   Dragonite    Dragon    Flying     2.2   210.0          0\n",
      "149  150      Mewtwo   Psychic       NaN     2.0   122.0          1\n"
     ]
    }
   ],
   "source": [
    "print(df.to_string())"
   ]
  },
  {
   "cell_type": "code",
   "execution_count": 16,
   "id": "f8703e44-a1e5-4a2d-9dc6-be6201fe2958",
   "metadata": {},
   "outputs": [
    {
     "name": "stdout",
     "output_type": "stream",
     "text": [
      "           Name  Height  Weight\n",
      "0     Bulbasaur     0.7     6.9\n",
      "1       Ivysaur     1.0    13.0\n",
      "2      Venusaur     2.0   100.0\n",
      "3    Charmander     0.6     8.5\n",
      "4    Charmeleon     1.1    19.0\n",
      "5     Charizard     1.7    90.5\n",
      "6      Squirtle     0.5     9.0\n",
      "7     Wartortle     1.0    22.5\n",
      "8     Blastoise     1.6    85.5\n",
      "9      Caterpie     0.3     2.9\n",
      "10      Metapod     0.7     9.9\n",
      "11   Butterfree     1.1    32.0\n",
      "12       Weedle     0.3     3.2\n",
      "13       Kakuna     0.6    10.0\n",
      "14     Beedrill     1.0    29.5\n",
      "15       Pidgey     0.3     1.8\n",
      "16    Pidgeotto     1.1    30.0\n",
      "17      Pidgeot     1.5    39.5\n",
      "18      Rattata     0.3     3.5\n",
      "19     Raticate     0.7    18.5\n",
      "20      Spearow     0.3     2.0\n",
      "21       Fearow     1.2    38.0\n",
      "22        Ekans     2.0     6.9\n",
      "23        Arbok     3.5    65.0\n",
      "24      Pikachu     0.4     6.0\n",
      "25       Raichu     0.8    30.0\n",
      "26    Sandshrew     0.6    12.0\n",
      "27    Sandslash     1.0    29.5\n",
      "28     Nidoran♀     0.4     7.0\n",
      "29     Nidorina     0.8    20.0\n",
      "30    Nidoqueen     1.3    60.0\n",
      "31     Nidoran♂     0.5     9.0\n",
      "32     Nidorino     0.9    19.5\n",
      "33     Nidoking     1.4    62.0\n",
      "34     Clefairy     0.6     7.5\n",
      "35     Clefable     1.3    40.0\n",
      "36       Vulpix     0.6     9.9\n",
      "37    Ninetales     1.1    19.9\n",
      "38   Jigglypuff     0.5     5.5\n",
      "39   Wigglytuff     1.0    12.0\n",
      "40        Zubat     0.8     7.5\n",
      "41       Golbat     1.6    55.0\n",
      "42       Oddish     0.5     5.4\n",
      "43        Gloom     0.8     8.6\n",
      "44    Vileplume     1.2    18.6\n",
      "45        Paras     0.3     5.4\n",
      "46     Parasect     1.0    29.5\n",
      "47      Venonat     1.0    30.0\n",
      "48     Venomoth     1.5    12.5\n",
      "49      Diglett     0.2     0.8\n",
      "50      Dugtrio     0.7    33.3\n",
      "51       Meowth     0.4     4.2\n",
      "52      Persian     1.0    32.0\n",
      "53      Psyduck     0.8    19.6\n",
      "54      Golduck     1.7    76.6\n",
      "55       Mankey     0.5    28.0\n",
      "56     Primeape     1.0    32.0\n",
      "57    Growlithe     0.7    19.0\n",
      "58     Arcanine     1.9   155.0\n",
      "59      Poliwag     0.6    12.4\n",
      "60    Poliwhirl     1.0    20.0\n",
      "61    Poliwrath     1.3    54.0\n",
      "62         Abra     0.9    19.5\n",
      "63      Kadabra     1.3    56.5\n",
      "64     Alakazam     1.5    48.0\n",
      "65       Machop     0.8    19.5\n",
      "66      Machoke     1.5    70.5\n",
      "67      Machamp     1.6   130.0\n",
      "68   Bellsprout     0.7     4.0\n",
      "69   Weepinbell     1.0     6.4\n",
      "70   Victreebel     1.7    15.5\n",
      "71    Tentacool     0.9    45.5\n",
      "72   Tentacruel     1.6    55.0\n",
      "73      Geodude     0.4    20.0\n",
      "74     Graveler     1.0   105.0\n",
      "75        Golem     1.4   300.0\n",
      "76       Ponyta     1.0    30.0\n",
      "77     Rapidash     1.7    95.0\n",
      "78     Slowpoke     1.2    36.0\n",
      "79      Slowbro     1.6    78.5\n",
      "80    Magnemite     0.3     6.0\n",
      "81     Magneton     1.0    60.0\n",
      "82   Farfetch'd     0.8    15.0\n",
      "83        Doduo     1.4    39.2\n",
      "84       Dodrio     1.8    85.2\n",
      "85         Seel     1.1    90.0\n",
      "86      Dewgong     1.7   120.0\n",
      "87       Grimer     0.9    30.0\n",
      "88          Muk     1.2    30.0\n",
      "89     Shellder     0.3     4.0\n",
      "90     Cloyster     1.5   132.5\n",
      "91       Gastly     1.3     0.1\n",
      "92      Haunter     1.6     0.1\n",
      "93       Gengar     1.5    40.5\n",
      "94         Onix     8.8   210.0\n",
      "95      Drowzee     1.0    32.4\n",
      "96        Hypno     1.6    75.6\n",
      "97       Krabby     0.4     6.5\n",
      "98      Kingler     1.3    60.0\n",
      "99      Voltorb     0.5    10.4\n",
      "100   Electrode     1.2    66.6\n",
      "101   Exeggcute     0.4     2.5\n",
      "102   Exeggutor     2.0   120.0\n",
      "103      Cubone     0.4     6.5\n",
      "104     Marowak     1.0    45.0\n",
      "105   Hitmonlee     1.5    49.8\n",
      "106  Hitmonchan     1.4    50.2\n",
      "107   Lickitung     1.2    65.5\n",
      "108     Koffing     0.6     1.0\n",
      "109     Weezing     1.2     9.5\n",
      "110     Rhyhorn     1.0   115.0\n",
      "111      Rhydon     1.9   120.0\n",
      "112     Chansey     1.1    34.6\n",
      "113     Tangela     1.0    35.0\n",
      "114  Kangaskhan     2.2    80.0\n",
      "115      Horsea     0.4     8.0\n",
      "116      Seadra     1.2    25.0\n",
      "117     Goldeen     0.6    15.0\n",
      "118     Seaking     1.3    39.0\n",
      "119      Staryu     0.8    34.5\n",
      "120     Starmie     1.1    80.0\n",
      "121    Mr. Mime     1.3    54.5\n",
      "122     Scyther     1.5    56.0\n",
      "123        Jynx     1.4    40.6\n",
      "124  Electabuzz     1.1    30.0\n",
      "125      Magmar     1.3    44.5\n",
      "126      Pinsir     1.5    55.0\n",
      "127      Tauros     1.4    88.4\n",
      "128    Magikarp     0.9    10.0\n",
      "129    Gyarados     6.5   235.0\n",
      "130      Lapras     2.5   220.0\n",
      "131       Ditto     0.3     4.0\n",
      "132       Eevee     0.3     6.5\n",
      "133    Vaporeon     1.0    29.0\n",
      "134     Jolteon     0.8    24.5\n",
      "135     Flareon     0.9    25.0\n",
      "136     Porygon     0.8    36.5\n",
      "137     Omanyte     0.4     7.5\n",
      "138     Omastar     1.0    35.0\n",
      "139      Kabuto     0.5    11.5\n",
      "140    Kabutops     1.3    40.5\n",
      "141  Aerodactyl     1.8    59.0\n",
      "142     Snorlax     2.1   460.0\n",
      "143    Articuno     1.7    55.4\n",
      "144      Zapdos     1.6    52.6\n",
      "145     Moltres     2.0    60.0\n",
      "146     Dratini     1.8     3.3\n",
      "147   Dragonair     4.0    16.5\n",
      "148   Dragonite     2.2   210.0\n",
      "149      Mewtwo     2.0   122.0\n"
     ]
    }
   ],
   "source": [
    "print(df[['Name', 'Height', 'Weight']].to_string())"
   ]
  },
  {
   "cell_type": "code",
   "execution_count": 19,
   "id": "4d99f8a0-732b-475a-919e-10f3a7922073",
   "metadata": {},
   "outputs": [
    {
     "name": "stdout",
     "output_type": "stream",
     "text": [
      "           Name  Height  Weight\n",
      "2      Venusaur     2.0   100.0\n",
      "3    Charmander     0.6     8.5\n",
      "4    Charmeleon     1.1    19.0\n",
      "5     Charizard     1.7    90.5\n",
      "6      Squirtle     0.5     9.0\n",
      "..          ...     ...     ...\n",
      "97       Krabby     0.4     6.5\n",
      "98      Kingler     1.3    60.0\n",
      "99      Voltorb     0.5    10.4\n",
      "100   Electrode     1.2    66.6\n",
      "101   Exeggcute     0.4     2.5\n",
      "\n",
      "[100 rows x 3 columns]\n"
     ]
    }
   ],
   "source": [
    "print(df.loc[2:101, ['Name','Height', 'Weight']])"
   ]
  },
  {
   "cell_type": "markdown",
   "id": "7f0d30bf-4926-4c26-9704-7defa6df92b2",
   "metadata": {},
   "source": [
    "### Filtering using pandas"
   ]
  },
  {
   "cell_type": "code",
   "execution_count": 21,
   "id": "54582027-e857-4634-a9b9-1a6d63187232",
   "metadata": {},
   "outputs": [
    {
     "name": "stdout",
     "output_type": "stream",
     "text": [
      "      No        Name    Type1    Type2  Height  Weight  Legendary\n",
      "2      3    Venusaur    Grass   Poison     2.0   100.0          0\n",
      "22    23       Ekans   Poison      NaN     2.0     6.9          0\n",
      "23    24       Arbok   Poison      NaN     3.5    65.0          0\n",
      "94    95        Onix     Rock   Ground     8.8   210.0          0\n",
      "102  103   Exeggutor    Grass  Psychic     2.0   120.0          0\n",
      "114  115  Kangaskhan   Normal      NaN     2.2    80.0          0\n",
      "129  130    Gyarados    Water   Flying     6.5   235.0          0\n",
      "130  131      Lapras    Water      Ice     2.5   220.0          0\n",
      "142  143     Snorlax   Normal      NaN     2.1   460.0          0\n",
      "145  146     Moltres     Fire   Flying     2.0    60.0          1\n",
      "147  148   Dragonair   Dragon      NaN     4.0    16.5          0\n",
      "148  149   Dragonite   Dragon   Flying     2.2   210.0          0\n",
      "149  150      Mewtwo  Psychic      NaN     2.0   122.0          1\n"
     ]
    }
   ],
   "source": [
    "tall_pokemons = df[df[\"Height\"]>=2]\n",
    "print(tall_pokemons)"
   ]
  },
  {
   "cell_type": "code",
   "execution_count": 22,
   "id": "2250616e-8665-4391-890c-b7b5595032bd",
   "metadata": {},
   "outputs": [
    {
     "name": "stdout",
     "output_type": "stream",
     "text": [
      "      No       Name     Type1    Type2  Height  Weight  Legendary\n",
      "2      3   Venusaur     Grass   Poison     2.0   100.0          0\n",
      "58    59   Arcanine      Fire      NaN     1.9   155.0          0\n",
      "67    68    Machamp  Fighting      NaN     1.6   130.0          0\n",
      "74    75   Graveler      Rock   Ground     1.0   105.0          0\n",
      "75    76      Golem      Rock   Ground     1.4   300.0          0\n",
      "86    87    Dewgong     Water      Ice     1.7   120.0          0\n",
      "90    91   Cloyster     Water      Ice     1.5   132.5          0\n",
      "94    95       Onix      Rock   Ground     8.8   210.0          0\n",
      "102  103  Exeggutor     Grass  Psychic     2.0   120.0          0\n",
      "110  111    Rhyhorn    Ground     Rock     1.0   115.0          0\n",
      "111  112     Rhydon    Ground     Rock     1.9   120.0          0\n",
      "129  130   Gyarados     Water   Flying     6.5   235.0          0\n",
      "130  131     Lapras     Water      Ice     2.5   220.0          0\n",
      "142  143    Snorlax    Normal      NaN     2.1   460.0          0\n",
      "148  149  Dragonite    Dragon   Flying     2.2   210.0          0\n",
      "149  150     Mewtwo   Psychic      NaN     2.0   122.0          1\n"
     ]
    }
   ],
   "source": [
    "heavy_pokemons = df[df[\"Weight\"]>=100]\n",
    "print(heavy_pokemons)"
   ]
  },
  {
   "cell_type": "code",
   "execution_count": 24,
   "id": "2dc89f0a-c13e-4ce1-8906-40136e85f6e6",
   "metadata": {},
   "outputs": [
    {
     "name": "stdout",
     "output_type": "stream",
     "text": [
      "      No      Name     Type1   Type2  Height  Weight  Legendary\n",
      "143  144  Articuno       Ice  Flying     1.7    55.4          1\n",
      "144  145    Zapdos  Electric  Flying     1.6    52.6          1\n",
      "145  146   Moltres      Fire  Flying     2.0    60.0          1\n",
      "149  150    Mewtwo   Psychic     NaN     2.0   122.0          1\n"
     ]
    }
   ],
   "source": [
    "legendary_pokemons = df[df[\"Legendary\"]==1]\n",
    "print(legendary_pokemons)"
   ]
  },
  {
   "cell_type": "markdown",
   "id": "d192cd6c-85af-499e-b2d3-8dd82b8d5482",
   "metadata": {},
   "source": [
    "### Aggregation"
   ]
  },
  {
   "cell_type": "code",
   "execution_count": 25,
   "id": "f108289c-5206-48d1-87bb-b37a2beca3fc",
   "metadata": {},
   "outputs": [
    {
     "name": "stdout",
     "output_type": "stream",
     "text": [
      "No           75.500000\n",
      "Height        1.200000\n",
      "Weight       46.231333\n",
      "Legendary     0.026667\n",
      "dtype: float64\n"
     ]
    }
   ],
   "source": [
    "print(df.mean(numeric_only=True))"
   ]
  },
  {
   "cell_type": "code",
   "execution_count": 26,
   "id": "519caf70-b785-4aa5-b4dc-c6666352d460",
   "metadata": {},
   "outputs": [
    {
     "name": "stdout",
     "output_type": "stream",
     "text": [
      "No           11325.0\n",
      "Height         180.0\n",
      "Weight        6934.7\n",
      "Legendary        4.0\n",
      "dtype: float64\n"
     ]
    }
   ],
   "source": [
    "print(df.sum(numeric_only=True))"
   ]
  },
  {
   "cell_type": "code",
   "execution_count": 28,
   "id": "534f3f8c-6e66-4eb3-ab47-0b4fc83e445e",
   "metadata": {},
   "outputs": [
    {
     "name": "stdout",
     "output_type": "stream",
     "text": [
      "No           1.0\n",
      "Height       0.2\n",
      "Weight       0.1\n",
      "Legendary    0.0\n",
      "dtype: float64\n"
     ]
    }
   ],
   "source": [
    "print(df.min(numeric_only=True))"
   ]
  },
  {
   "cell_type": "code",
   "execution_count": 29,
   "id": "adbbdebf-bd64-4453-817d-2a74140a9441",
   "metadata": {},
   "outputs": [
    {
     "name": "stdout",
     "output_type": "stream",
     "text": [
      "No           150.0\n",
      "Height         8.8\n",
      "Weight       460.0\n",
      "Legendary      1.0\n",
      "dtype: float64\n"
     ]
    }
   ],
   "source": [
    "print(df.max(numeric_only=True))"
   ]
  },
  {
   "cell_type": "code",
   "execution_count": 30,
   "id": "c48018d3-ccd6-4c36-9626-6a54910cabcc",
   "metadata": {},
   "outputs": [
    {
     "name": "stdout",
     "output_type": "stream",
     "text": [
      "No           150\n",
      "Name         150\n",
      "Type1        150\n",
      "Type2         67\n",
      "Height       150\n",
      "Weight       150\n",
      "Legendary    150\n",
      "dtype: int64\n"
     ]
    }
   ],
   "source": [
    "print(df.count())"
   ]
  },
  {
   "cell_type": "code",
   "execution_count": 31,
   "id": "d78f038f-0a26-4558-8c3d-b6b940cc2d12",
   "metadata": {},
   "outputs": [
    {
     "name": "stdout",
     "output_type": "stream",
     "text": [
      "1.2\n"
     ]
    }
   ],
   "source": [
    "print(df[\"Height\"].mean())"
   ]
  },
  {
   "cell_type": "code",
   "execution_count": 32,
   "id": "a6112591-e366-4732-84f8-0470359425b1",
   "metadata": {},
   "outputs": [
    {
     "name": "stdout",
     "output_type": "stream",
     "text": [
      "180.0\n"
     ]
    }
   ],
   "source": [
    "print(df[\"Height\"].sum())"
   ]
  },
  {
   "cell_type": "code",
   "execution_count": 33,
   "id": "02b4428c-109f-468b-a8e3-e3c3911d0140",
   "metadata": {},
   "outputs": [
    {
     "name": "stdout",
     "output_type": "stream",
     "text": [
      "0.2\n"
     ]
    }
   ],
   "source": [
    "print(df[\"Height\"].min())"
   ]
  },
  {
   "cell_type": "code",
   "execution_count": 34,
   "id": "728a24fb-1f8c-4d88-b83c-2e81a63f232b",
   "metadata": {},
   "outputs": [
    {
     "name": "stdout",
     "output_type": "stream",
     "text": [
      "8.8\n"
     ]
    }
   ],
   "source": [
    "print(df[\"Height\"].max())"
   ]
  },
  {
   "cell_type": "markdown",
   "id": "2f193d4b-0d48-4462-abfb-3932c5ef224a",
   "metadata": {},
   "source": [
    "## Data cleaning"
   ]
  },
  {
   "cell_type": "code",
   "execution_count": 46,
   "id": "94fedc62-2317-4f38-9c21-7e523ff07b2a",
   "metadata": {},
   "outputs": [
    {
     "data": {
      "text/html": [
       "<div>\n",
       "<style scoped>\n",
       "    .dataframe tbody tr th:only-of-type {\n",
       "        vertical-align: middle;\n",
       "    }\n",
       "\n",
       "    .dataframe tbody tr th {\n",
       "        vertical-align: top;\n",
       "    }\n",
       "\n",
       "    .dataframe thead th {\n",
       "        text-align: right;\n",
       "    }\n",
       "</style>\n",
       "<table border=\"1\" class=\"dataframe\">\n",
       "  <thead>\n",
       "    <tr style=\"text-align: right;\">\n",
       "      <th></th>\n",
       "      <th>Name</th>\n",
       "      <th>Type1</th>\n",
       "      <th>Type2</th>\n",
       "      <th>Height</th>\n",
       "      <th>Weight</th>\n",
       "    </tr>\n",
       "  </thead>\n",
       "  <tbody>\n",
       "    <tr>\n",
       "      <th>0</th>\n",
       "      <td>Bulbasaur</td>\n",
       "      <td>Grass</td>\n",
       "      <td>Poison</td>\n",
       "      <td>0.7</td>\n",
       "      <td>6.9</td>\n",
       "    </tr>\n",
       "    <tr>\n",
       "      <th>1</th>\n",
       "      <td>Ivysaur</td>\n",
       "      <td>Grass</td>\n",
       "      <td>Poison</td>\n",
       "      <td>1.0</td>\n",
       "      <td>13.0</td>\n",
       "    </tr>\n",
       "    <tr>\n",
       "      <th>2</th>\n",
       "      <td>Venusaur</td>\n",
       "      <td>Grass</td>\n",
       "      <td>Poison</td>\n",
       "      <td>2.0</td>\n",
       "      <td>100.0</td>\n",
       "    </tr>\n",
       "    <tr>\n",
       "      <th>3</th>\n",
       "      <td>Charmander</td>\n",
       "      <td>Fire</td>\n",
       "      <td>NaN</td>\n",
       "      <td>0.6</td>\n",
       "      <td>8.5</td>\n",
       "    </tr>\n",
       "    <tr>\n",
       "      <th>4</th>\n",
       "      <td>Charmeleon</td>\n",
       "      <td>Fire</td>\n",
       "      <td>NaN</td>\n",
       "      <td>1.1</td>\n",
       "      <td>19.0</td>\n",
       "    </tr>\n",
       "    <tr>\n",
       "      <th>...</th>\n",
       "      <td>...</td>\n",
       "      <td>...</td>\n",
       "      <td>...</td>\n",
       "      <td>...</td>\n",
       "      <td>...</td>\n",
       "    </tr>\n",
       "    <tr>\n",
       "      <th>145</th>\n",
       "      <td>Moltres</td>\n",
       "      <td>Fire</td>\n",
       "      <td>Flying</td>\n",
       "      <td>2.0</td>\n",
       "      <td>60.0</td>\n",
       "    </tr>\n",
       "    <tr>\n",
       "      <th>146</th>\n",
       "      <td>Dratini</td>\n",
       "      <td>Dragon</td>\n",
       "      <td>NaN</td>\n",
       "      <td>1.8</td>\n",
       "      <td>3.3</td>\n",
       "    </tr>\n",
       "    <tr>\n",
       "      <th>147</th>\n",
       "      <td>Dragonair</td>\n",
       "      <td>Dragon</td>\n",
       "      <td>NaN</td>\n",
       "      <td>4.0</td>\n",
       "      <td>16.5</td>\n",
       "    </tr>\n",
       "    <tr>\n",
       "      <th>148</th>\n",
       "      <td>Dragonite</td>\n",
       "      <td>Dragon</td>\n",
       "      <td>Flying</td>\n",
       "      <td>2.2</td>\n",
       "      <td>210.0</td>\n",
       "    </tr>\n",
       "    <tr>\n",
       "      <th>149</th>\n",
       "      <td>Mewtwo</td>\n",
       "      <td>Psychic</td>\n",
       "      <td>NaN</td>\n",
       "      <td>2.0</td>\n",
       "      <td>122.0</td>\n",
       "    </tr>\n",
       "  </tbody>\n",
       "</table>\n",
       "<p>150 rows × 5 columns</p>\n",
       "</div>"
      ],
      "text/plain": [
       "           Name    Type1   Type2  Height  Weight\n",
       "0     Bulbasaur    Grass  Poison     0.7     6.9\n",
       "1       Ivysaur    Grass  Poison     1.0    13.0\n",
       "2      Venusaur    Grass  Poison     2.0   100.0\n",
       "3    Charmander     Fire     NaN     0.6     8.5\n",
       "4    Charmeleon     Fire     NaN     1.1    19.0\n",
       "..          ...      ...     ...     ...     ...\n",
       "145     Moltres     Fire  Flying     2.0    60.0\n",
       "146     Dratini   Dragon     NaN     1.8     3.3\n",
       "147   Dragonair   Dragon     NaN     4.0    16.5\n",
       "148   Dragonite   Dragon  Flying     2.2   210.0\n",
       "149      Mewtwo  Psychic     NaN     2.0   122.0\n",
       "\n",
       "[150 rows x 5 columns]"
      ]
     },
     "execution_count": 46,
     "metadata": {},
     "output_type": "execute_result"
    }
   ],
   "source": [
    "df = df.drop(columns=['No'])\n",
    "df"
   ]
  },
  {
   "cell_type": "code",
   "execution_count": 47,
   "id": "b5f62244-a5d8-4701-82da-f655eee433f7",
   "metadata": {},
   "outputs": [
    {
     "name": "stdout",
     "output_type": "stream",
     "text": [
      "           Name     Type1     Type2  Height  Weight\n",
      "0     Bulbasaur     Grass    Poison     0.7     6.9\n",
      "1       Ivysaur     Grass    Poison     1.0    13.0\n",
      "2      Venusaur     Grass    Poison     2.0   100.0\n",
      "3    Charmander      Fire      None     0.6     8.5\n",
      "4    Charmeleon      Fire      None     1.1    19.0\n",
      "5     Charizard      Fire    Flying     1.7    90.5\n",
      "6      Squirtle     Water      None     0.5     9.0\n",
      "7     Wartortle     Water      None     1.0    22.5\n",
      "8     Blastoise     Water      None     1.6    85.5\n",
      "9      Caterpie       Bug      None     0.3     2.9\n",
      "10      Metapod       Bug      None     0.7     9.9\n",
      "11   Butterfree       Bug    Flying     1.1    32.0\n",
      "12       Weedle       Bug    Poison     0.3     3.2\n",
      "13       Kakuna       Bug    Poison     0.6    10.0\n",
      "14     Beedrill       Bug    Poison     1.0    29.5\n",
      "15       Pidgey    Normal    Flying     0.3     1.8\n",
      "16    Pidgeotto    Normal    Flying     1.1    30.0\n",
      "17      Pidgeot    Normal    Flying     1.5    39.5\n",
      "18      Rattata    Normal      None     0.3     3.5\n",
      "19     Raticate    Normal      None     0.7    18.5\n",
      "20      Spearow    Normal    Flying     0.3     2.0\n",
      "21       Fearow    Normal    Flying     1.2    38.0\n",
      "22        Ekans    Poison      None     2.0     6.9\n",
      "23        Arbok    Poison      None     3.5    65.0\n",
      "24      Pikachu  Electric      None     0.4     6.0\n",
      "25       Raichu  Electric      None     0.8    30.0\n",
      "26    Sandshrew    Ground      None     0.6    12.0\n",
      "27    Sandslash    Ground      None     1.0    29.5\n",
      "28     Nidoran♀    Poison      None     0.4     7.0\n",
      "29     Nidorina    Poison      None     0.8    20.0\n",
      "30    Nidoqueen    Poison    Ground     1.3    60.0\n",
      "31     Nidoran♂    Poison      None     0.5     9.0\n",
      "32     Nidorino    Poison      None     0.9    19.5\n",
      "33     Nidoking    Poison    Ground     1.4    62.0\n",
      "34     Clefairy     Fairy      None     0.6     7.5\n",
      "35     Clefable     Fairy      None     1.3    40.0\n",
      "36       Vulpix      Fire      None     0.6     9.9\n",
      "37    Ninetales      Fire      None     1.1    19.9\n",
      "38   Jigglypuff    Normal     Fairy     0.5     5.5\n",
      "39   Wigglytuff    Normal     Fairy     1.0    12.0\n",
      "40        Zubat    Poison    Flying     0.8     7.5\n",
      "41       Golbat    Poison    Flying     1.6    55.0\n",
      "42       Oddish     Grass    Poison     0.5     5.4\n",
      "43        Gloom     Grass    Poison     0.8     8.6\n",
      "44    Vileplume     Grass    Poison     1.2    18.6\n",
      "45        Paras       Bug     Grass     0.3     5.4\n",
      "46     Parasect       Bug     Grass     1.0    29.5\n",
      "47      Venonat       Bug    Poison     1.0    30.0\n",
      "48     Venomoth       Bug    Poison     1.5    12.5\n",
      "49      Diglett    Ground      None     0.2     0.8\n",
      "50      Dugtrio    Ground      None     0.7    33.3\n",
      "51       Meowth    Normal      None     0.4     4.2\n",
      "52      Persian    Normal      None     1.0    32.0\n",
      "53      Psyduck     Water      None     0.8    19.6\n",
      "54      Golduck     Water      None     1.7    76.6\n",
      "55       Mankey  Fighting      None     0.5    28.0\n",
      "56     Primeape  Fighting      None     1.0    32.0\n",
      "57    Growlithe      Fire      None     0.7    19.0\n",
      "58     Arcanine      Fire      None     1.9   155.0\n",
      "59      Poliwag     Water      None     0.6    12.4\n",
      "60    Poliwhirl     Water      None     1.0    20.0\n",
      "61    Poliwrath     Water  Fighting     1.3    54.0\n",
      "62         Abra   Psychic      None     0.9    19.5\n",
      "63      Kadabra   Psychic      None     1.3    56.5\n",
      "64     Alakazam   Psychic      None     1.5    48.0\n",
      "65       Machop  Fighting      None     0.8    19.5\n",
      "66      Machoke  Fighting      None     1.5    70.5\n",
      "67      Machamp  Fighting      None     1.6   130.0\n",
      "68   Bellsprout     Grass    Poison     0.7     4.0\n",
      "69   Weepinbell     Grass    Poison     1.0     6.4\n",
      "70   Victreebel     Grass    Poison     1.7    15.5\n",
      "71    Tentacool     Water    Poison     0.9    45.5\n",
      "72   Tentacruel     Water    Poison     1.6    55.0\n",
      "73      Geodude      Rock    Ground     0.4    20.0\n",
      "74     Graveler      Rock    Ground     1.0   105.0\n",
      "75        Golem      Rock    Ground     1.4   300.0\n",
      "76       Ponyta      Fire      None     1.0    30.0\n",
      "77     Rapidash      Fire      None     1.7    95.0\n",
      "78     Slowpoke     Water   Psychic     1.2    36.0\n",
      "79      Slowbro     Water   Psychic     1.6    78.5\n",
      "80    Magnemite  Electric     Steel     0.3     6.0\n",
      "81     Magneton  Electric     Steel     1.0    60.0\n",
      "82   Farfetch'd    Normal    Flying     0.8    15.0\n",
      "83        Doduo    Normal    Flying     1.4    39.2\n",
      "84       Dodrio    Normal    Flying     1.8    85.2\n",
      "85         Seel     Water      None     1.1    90.0\n",
      "86      Dewgong     Water       Ice     1.7   120.0\n",
      "87       Grimer    Poison      None     0.9    30.0\n",
      "88          Muk    Poison      None     1.2    30.0\n",
      "89     Shellder     Water      None     0.3     4.0\n",
      "90     Cloyster     Water       Ice     1.5   132.5\n",
      "91       Gastly     Ghost    Poison     1.3     0.1\n",
      "92      Haunter     Ghost    Poison     1.6     0.1\n",
      "93       Gengar     Ghost    Poison     1.5    40.5\n",
      "94         Onix      Rock    Ground     8.8   210.0\n",
      "95      Drowzee   Psychic      None     1.0    32.4\n",
      "96        Hypno   Psychic      None     1.6    75.6\n",
      "97       Krabby     Water      None     0.4     6.5\n",
      "98      Kingler     Water      None     1.3    60.0\n",
      "99      Voltorb  Electric      None     0.5    10.4\n",
      "100   Electrode  Electric      None     1.2    66.6\n",
      "101   Exeggcute     Grass   Psychic     0.4     2.5\n",
      "102   Exeggutor     Grass   Psychic     2.0   120.0\n",
      "103      Cubone    Ground      None     0.4     6.5\n",
      "104     Marowak    Ground      None     1.0    45.0\n",
      "105   Hitmonlee  Fighting      None     1.5    49.8\n",
      "106  Hitmonchan  Fighting      None     1.4    50.2\n",
      "107   Lickitung    Normal      None     1.2    65.5\n",
      "108     Koffing    Poison      None     0.6     1.0\n",
      "109     Weezing    Poison      None     1.2     9.5\n",
      "110     Rhyhorn    Ground      Rock     1.0   115.0\n",
      "111      Rhydon    Ground      Rock     1.9   120.0\n",
      "112     Chansey    Normal      None     1.1    34.6\n",
      "113     Tangela     Grass      None     1.0    35.0\n",
      "114  Kangaskhan    Normal      None     2.2    80.0\n",
      "115      Horsea     Water      None     0.4     8.0\n",
      "116      Seadra     Water      None     1.2    25.0\n",
      "117     Goldeen     Water      None     0.6    15.0\n",
      "118     Seaking     Water      None     1.3    39.0\n",
      "119      Staryu     Water      None     0.8    34.5\n",
      "120     Starmie     Water   Psychic     1.1    80.0\n",
      "121    Mr. Mime   Psychic     Fairy     1.3    54.5\n",
      "122     Scyther       Bug    Flying     1.5    56.0\n",
      "123        Jynx       Ice   Psychic     1.4    40.6\n",
      "124  Electabuzz  Electric      None     1.1    30.0\n",
      "125      Magmar      Fire      None     1.3    44.5\n",
      "126      Pinsir       Bug      None     1.5    55.0\n",
      "127      Tauros    Normal      None     1.4    88.4\n",
      "128    Magikarp     Water      None     0.9    10.0\n",
      "129    Gyarados     Water    Flying     6.5   235.0\n",
      "130      Lapras     Water       Ice     2.5   220.0\n",
      "131       Ditto    Normal      None     0.3     4.0\n",
      "132       Eevee    Normal      None     0.3     6.5\n",
      "133    Vaporeon     Water      None     1.0    29.0\n",
      "134     Jolteon  Electric      None     0.8    24.5\n",
      "135     Flareon      Fire      None     0.9    25.0\n",
      "136     Porygon    Normal      None     0.8    36.5\n",
      "137     Omanyte      Rock     Water     0.4     7.5\n",
      "138     Omastar      Rock     Water     1.0    35.0\n",
      "139      Kabuto      Rock     Water     0.5    11.5\n",
      "140    Kabutops      Rock     Water     1.3    40.5\n",
      "141  Aerodactyl      Rock    Flying     1.8    59.0\n",
      "142     Snorlax    Normal      None     2.1   460.0\n",
      "143    Articuno       Ice    Flying     1.7    55.4\n",
      "144      Zapdos  Electric    Flying     1.6    52.6\n",
      "145     Moltres      Fire    Flying     2.0    60.0\n",
      "146     Dratini    Dragon      None     1.8     3.3\n",
      "147   Dragonair    Dragon      None     4.0    16.5\n",
      "148   Dragonite    Dragon    Flying     2.2   210.0\n",
      "149      Mewtwo   Psychic      None     2.0   122.0\n"
     ]
    }
   ],
   "source": [
    "df = df.fillna({\"Type2\":\"None\"})\n",
    "print(df.to_string())"
   ]
  },
  {
   "cell_type": "code",
   "execution_count": null,
   "id": "9d49d5c0-5180-4d0b-a1c2-3439734318b4",
   "metadata": {},
   "outputs": [],
   "source": []
  }
 ],
 "metadata": {
  "kernelspec": {
   "display_name": "Python 3 (ipykernel)",
   "language": "python",
   "name": "python3"
  },
  "language_info": {
   "codemirror_mode": {
    "name": "ipython",
    "version": 3
   },
   "file_extension": ".py",
   "mimetype": "text/x-python",
   "name": "python",
   "nbconvert_exporter": "python",
   "pygments_lexer": "ipython3",
   "version": "3.13.5"
  }
 },
 "nbformat": 4,
 "nbformat_minor": 5
}
